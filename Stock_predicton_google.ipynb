{
  "nbformat": 4,
  "nbformat_minor": 0,
  "metadata": {
    "colab": {
      "name": "Untitled2.ipynb",
      "provenance": [],
      "collapsed_sections": [],
      "authorship_tag": "ABX9TyN2t+dmZRDldQVnVPv5UnaF",
      "include_colab_link": true
    },
    "kernelspec": {
      "name": "python3",
      "display_name": "Python 3"
    }
  },
  "cells": [
    {
      "cell_type": "markdown",
      "metadata": {
        "id": "view-in-github",
        "colab_type": "text"
      },
      "source": [
        "<a href=\"https://colab.research.google.com/github/prafulacharya/MyLearningToDevelop/blob/master/Stock_predicton_google.ipynb\" target=\"_parent\"><img src=\"https://colab.research.google.com/assets/colab-badge.svg\" alt=\"Open In Colab\"/></a>"
      ]
    },
    {
      "cell_type": "code",
      "metadata": {
        "id": "pliwcOtDl5_d",
        "colab_type": "code",
        "colab": {}
      },
      "source": [
        "#The goal in linear regression is to minimize the error between the prediction and data.\n",
        "# In SVR, the goal is to make sure that the errors do not exceed the threshold\n",
        "#SVR in 6 setps #1 Importing the libraries#2 Importing the dataset#3 Feature Scaling\n",
        "#4 Fitting the Support Vector Regression Model to the dataset[ Create your support vector regressor here]\n",
        "# most important SVR parameter is Kernel type. It can be #linear,polynomial or gaussian SVR. We have a non-linear condition #so we can select polynomial or gaussian but here we select RBF(a #gaussian type) kernel.\n",
        "#5 Predicting a new result #6 Visualising the Support Vector Regression results"
      ],
      "execution_count": 0,
      "outputs": []
    },
    {
      "cell_type": "code",
      "metadata": {
        "id": "RxPSBwTIpD9W",
        "colab_type": "code",
        "colab": {}
      },
      "source": [
        "#This program predicts the price of google stocks for a specific day using the \n",
        "#Machine learning algorithm called SVM(Support Vector Regression and Linear Regression \n",
        "\n",
        "#import the libraries\n",
        "import pandas as pd\n",
        "import numpy as np\n",
        "from sklearn.svm import SVR\n",
        "from sklearn.linear_model import  LinearRegression\n",
        "import matplotlib.pyplot as plt\n"
      ],
      "execution_count": 0,
      "outputs": []
    },
    {
      "cell_type": "code",
      "metadata": {
        "id": "y-nB9N5Aq4gB",
        "colab_type": "code",
        "outputId": "8a961e19-560e-43ed-8cd7-acf6122547fb",
        "colab": {
          "resources": {
            "http://localhost:8080/nbextensions/google.colab/files.js": {
              "data": "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",
              "ok": true,
              "headers": [
                [
                  "content-type",
                  "application/javascript"
                ]
              ],
              "status": 200,
              "status_text": ""
            }
          },
          "base_uri": "https://localhost:8080/",
          "height": 323
        }
      },
      "source": [
        "#load the data\n",
        "from google.colab import files\n",
        "uploaded=files.upload()\n",
        "df=pd.read_csv('New.csv')\n",
        "df.head(7)"
      ],
      "execution_count": 0,
      "outputs": [
        {
          "output_type": "display_data",
          "data": {
            "text/html": [
              "\n",
              "     <input type=\"file\" id=\"files-773f6875-7b8e-4988-b00b-34180151f0ba\" name=\"files[]\" multiple disabled />\n",
              "     <output id=\"result-773f6875-7b8e-4988-b00b-34180151f0ba\">\n",
              "      Upload widget is only available when the cell has been executed in the\n",
              "      current browser session. Please rerun this cell to enable.\n",
              "      </output>\n",
              "      <script src=\"/nbextensions/google.colab/files.js\"></script> "
            ],
            "text/plain": [
              "<IPython.core.display.HTML object>"
            ]
          },
          "metadata": {
            "tags": []
          }
        },
        {
          "output_type": "stream",
          "text": [
            "Saving New.csv to New.csv\n"
          ],
          "name": "stdout"
        },
        {
          "output_type": "execute_result",
          "data": {
            "text/html": [
              "<div>\n",
              "<style scoped>\n",
              "    .dataframe tbody tr th:only-of-type {\n",
              "        vertical-align: middle;\n",
              "    }\n",
              "\n",
              "    .dataframe tbody tr th {\n",
              "        vertical-align: top;\n",
              "    }\n",
              "\n",
              "    .dataframe thead th {\n",
              "        text-align: right;\n",
              "    }\n",
              "</style>\n",
              "<table border=\"1\" class=\"dataframe\">\n",
              "  <thead>\n",
              "    <tr style=\"text-align: right;\">\n",
              "      <th></th>\n",
              "      <th>Date</th>\n",
              "      <th>Open</th>\n",
              "      <th>High</th>\n",
              "      <th>Low</th>\n",
              "      <th>Close</th>\n",
              "      <th>Adj Close</th>\n",
              "      <th>Volume</th>\n",
              "    </tr>\n",
              "  </thead>\n",
              "  <tbody>\n",
              "    <tr>\n",
              "      <th>0</th>\n",
              "      <td>2019-01-15</td>\n",
              "      <td>1050.170044</td>\n",
              "      <td>1080.050049</td>\n",
              "      <td>1047.339966</td>\n",
              "      <td>1077.150024</td>\n",
              "      <td>1077.150024</td>\n",
              "      <td>1463600</td>\n",
              "    </tr>\n",
              "    <tr>\n",
              "      <th>1</th>\n",
              "      <td>2019-01-16</td>\n",
              "      <td>1080.000000</td>\n",
              "      <td>1092.375000</td>\n",
              "      <td>1079.339966</td>\n",
              "      <td>1080.969971</td>\n",
              "      <td>1080.969971</td>\n",
              "      <td>1331800</td>\n",
              "    </tr>\n",
              "    <tr>\n",
              "      <th>2</th>\n",
              "      <td>2019-01-17</td>\n",
              "      <td>1079.469971</td>\n",
              "      <td>1091.800049</td>\n",
              "      <td>1073.500000</td>\n",
              "      <td>1089.900024</td>\n",
              "      <td>1089.900024</td>\n",
              "      <td>1242700</td>\n",
              "    </tr>\n",
              "    <tr>\n",
              "      <th>3</th>\n",
              "      <td>2019-01-18</td>\n",
              "      <td>1100.000000</td>\n",
              "      <td>1108.352051</td>\n",
              "      <td>1090.900024</td>\n",
              "      <td>1098.260010</td>\n",
              "      <td>1098.260010</td>\n",
              "      <td>1955600</td>\n",
              "    </tr>\n",
              "    <tr>\n",
              "      <th>4</th>\n",
              "      <td>2019-01-22</td>\n",
              "      <td>1088.000000</td>\n",
              "      <td>1091.510010</td>\n",
              "      <td>1063.469971</td>\n",
              "      <td>1070.520020</td>\n",
              "      <td>1070.520020</td>\n",
              "      <td>1613500</td>\n",
              "    </tr>\n",
              "    <tr>\n",
              "      <th>5</th>\n",
              "      <td>2019-01-23</td>\n",
              "      <td>1077.349976</td>\n",
              "      <td>1084.930054</td>\n",
              "      <td>1059.750000</td>\n",
              "      <td>1075.569946</td>\n",
              "      <td>1075.569946</td>\n",
              "      <td>967000</td>\n",
              "    </tr>\n",
              "    <tr>\n",
              "      <th>6</th>\n",
              "      <td>2019-01-24</td>\n",
              "      <td>1076.479980</td>\n",
              "      <td>1079.474976</td>\n",
              "      <td>1060.699951</td>\n",
              "      <td>1073.900024</td>\n",
              "      <td>1073.900024</td>\n",
              "      <td>1361300</td>\n",
              "    </tr>\n",
              "  </tbody>\n",
              "</table>\n",
              "</div>"
            ],
            "text/plain": [
              "         Date         Open         High  ...        Close    Adj Close   Volume\n",
              "0  2019-01-15  1050.170044  1080.050049  ...  1077.150024  1077.150024  1463600\n",
              "1  2019-01-16  1080.000000  1092.375000  ...  1080.969971  1080.969971  1331800\n",
              "2  2019-01-17  1079.469971  1091.800049  ...  1089.900024  1089.900024  1242700\n",
              "3  2019-01-18  1100.000000  1108.352051  ...  1098.260010  1098.260010  1955600\n",
              "4  2019-01-22  1088.000000  1091.510010  ...  1070.520020  1070.520020  1613500\n",
              "5  2019-01-23  1077.349976  1084.930054  ...  1075.569946  1075.569946   967000\n",
              "6  2019-01-24  1076.479980  1079.474976  ...  1073.900024  1073.900024  1361300\n",
              "\n",
              "[7 rows x 7 columns]"
            ]
          },
          "metadata": {
            "tags": []
          },
          "execution_count": 62
        }
      ]
    },
    {
      "cell_type": "code",
      "metadata": {
        "id": "bzL3w4R1vUaz",
        "colab_type": "code",
        "colab": {}
      },
      "source": [
        "#create variables/ x and y data list\n",
        "dates=[]\n",
        "prices=[]"
      ],
      "execution_count": 0,
      "outputs": []
    },
    {
      "cell_type": "code",
      "metadata": {
        "id": "hp6HjQABA1WX",
        "colab_type": "code",
        "outputId": "cc09a92e-9a85-4c45-a6b7-6b00f01a68c3",
        "colab": {
          "base_uri": "https://localhost:8080/",
          "height": 34
        }
      },
      "source": [
        "#get the number of rows and columns in the data set \n",
        "df.shape"
      ],
      "execution_count": 0,
      "outputs": [
        {
          "output_type": "execute_result",
          "data": {
            "text/plain": [
              "(22, 7)"
            ]
          },
          "metadata": {
            "tags": []
          },
          "execution_count": 64
        }
      ]
    },
    {
      "cell_type": "code",
      "metadata": {
        "id": "7XiEnhpgBE7C",
        "colab_type": "code",
        "outputId": "a7a88714-b7ec-45af-d173-b63ec61fe516",
        "colab": {
          "base_uri": "https://localhost:8080/",
          "height": 80
        }
      },
      "source": [
        "#get the last row of data.(this will the data that we test on ).\n",
        "df.tail(1)"
      ],
      "execution_count": 0,
      "outputs": [
        {
          "output_type": "execute_result",
          "data": {
            "text/html": [
              "<div>\n",
              "<style scoped>\n",
              "    .dataframe tbody tr th:only-of-type {\n",
              "        vertical-align: middle;\n",
              "    }\n",
              "\n",
              "    .dataframe tbody tr th {\n",
              "        vertical-align: top;\n",
              "    }\n",
              "\n",
              "    .dataframe thead th {\n",
              "        text-align: right;\n",
              "    }\n",
              "</style>\n",
              "<table border=\"1\" class=\"dataframe\">\n",
              "  <thead>\n",
              "    <tr style=\"text-align: right;\">\n",
              "      <th></th>\n",
              "      <th>Date</th>\n",
              "      <th>Open</th>\n",
              "      <th>High</th>\n",
              "      <th>Low</th>\n",
              "      <th>Close</th>\n",
              "      <th>Adj Close</th>\n",
              "      <th>Volume</th>\n",
              "    </tr>\n",
              "  </thead>\n",
              "  <tbody>\n",
              "    <tr>\n",
              "      <th>21</th>\n",
              "      <td>2019-02-14</td>\n",
              "      <td>1118.050049</td>\n",
              "      <td>1128.22998</td>\n",
              "      <td>1110.444946</td>\n",
              "      <td>1121.670044</td>\n",
              "      <td>1121.670044</td>\n",
              "      <td>947600</td>\n",
              "    </tr>\n",
              "  </tbody>\n",
              "</table>\n",
              "</div>"
            ],
            "text/plain": [
              "          Date         Open        High  ...        Close    Adj Close  Volume\n",
              "21  2019-02-14  1118.050049  1128.22998  ...  1121.670044  1121.670044  947600\n",
              "\n",
              "[1 rows x 7 columns]"
            ]
          },
          "metadata": {
            "tags": []
          },
          "execution_count": 65
        }
      ]
    },
    {
      "cell_type": "code",
      "metadata": {
        "id": "XN1X8XXABi6n",
        "colab_type": "code",
        "outputId": "c5f1cd9d-7ead-4fb3-9db9-928303dca02b",
        "colab": {
          "base_uri": "https://localhost:8080/",
          "height": 700
        }
      },
      "source": [
        "#Geting the data from ata set except the last row\n",
        "df=df.head(len(df)-1)\n",
        "df"
      ],
      "execution_count": 0,
      "outputs": [
        {
          "output_type": "execute_result",
          "data": {
            "text/html": [
              "<div>\n",
              "<style scoped>\n",
              "    .dataframe tbody tr th:only-of-type {\n",
              "        vertical-align: middle;\n",
              "    }\n",
              "\n",
              "    .dataframe tbody tr th {\n",
              "        vertical-align: top;\n",
              "    }\n",
              "\n",
              "    .dataframe thead th {\n",
              "        text-align: right;\n",
              "    }\n",
              "</style>\n",
              "<table border=\"1\" class=\"dataframe\">\n",
              "  <thead>\n",
              "    <tr style=\"text-align: right;\">\n",
              "      <th></th>\n",
              "      <th>Date</th>\n",
              "      <th>Open</th>\n",
              "      <th>High</th>\n",
              "      <th>Low</th>\n",
              "      <th>Close</th>\n",
              "      <th>Adj Close</th>\n",
              "      <th>Volume</th>\n",
              "    </tr>\n",
              "  </thead>\n",
              "  <tbody>\n",
              "    <tr>\n",
              "      <th>0</th>\n",
              "      <td>2019-01-15</td>\n",
              "      <td>1050.170044</td>\n",
              "      <td>1080.050049</td>\n",
              "      <td>1047.339966</td>\n",
              "      <td>1077.150024</td>\n",
              "      <td>1077.150024</td>\n",
              "      <td>1463600</td>\n",
              "    </tr>\n",
              "    <tr>\n",
              "      <th>1</th>\n",
              "      <td>2019-01-16</td>\n",
              "      <td>1080.000000</td>\n",
              "      <td>1092.375000</td>\n",
              "      <td>1079.339966</td>\n",
              "      <td>1080.969971</td>\n",
              "      <td>1080.969971</td>\n",
              "      <td>1331800</td>\n",
              "    </tr>\n",
              "    <tr>\n",
              "      <th>2</th>\n",
              "      <td>2019-01-17</td>\n",
              "      <td>1079.469971</td>\n",
              "      <td>1091.800049</td>\n",
              "      <td>1073.500000</td>\n",
              "      <td>1089.900024</td>\n",
              "      <td>1089.900024</td>\n",
              "      <td>1242700</td>\n",
              "    </tr>\n",
              "    <tr>\n",
              "      <th>3</th>\n",
              "      <td>2019-01-18</td>\n",
              "      <td>1100.000000</td>\n",
              "      <td>1108.352051</td>\n",
              "      <td>1090.900024</td>\n",
              "      <td>1098.260010</td>\n",
              "      <td>1098.260010</td>\n",
              "      <td>1955600</td>\n",
              "    </tr>\n",
              "    <tr>\n",
              "      <th>4</th>\n",
              "      <td>2019-01-22</td>\n",
              "      <td>1088.000000</td>\n",
              "      <td>1091.510010</td>\n",
              "      <td>1063.469971</td>\n",
              "      <td>1070.520020</td>\n",
              "      <td>1070.520020</td>\n",
              "      <td>1613500</td>\n",
              "    </tr>\n",
              "    <tr>\n",
              "      <th>5</th>\n",
              "      <td>2019-01-23</td>\n",
              "      <td>1077.349976</td>\n",
              "      <td>1084.930054</td>\n",
              "      <td>1059.750000</td>\n",
              "      <td>1075.569946</td>\n",
              "      <td>1075.569946</td>\n",
              "      <td>967000</td>\n",
              "    </tr>\n",
              "    <tr>\n",
              "      <th>6</th>\n",
              "      <td>2019-01-24</td>\n",
              "      <td>1076.479980</td>\n",
              "      <td>1079.474976</td>\n",
              "      <td>1060.699951</td>\n",
              "      <td>1073.900024</td>\n",
              "      <td>1073.900024</td>\n",
              "      <td>1361300</td>\n",
              "    </tr>\n",
              "    <tr>\n",
              "      <th>7</th>\n",
              "      <td>2019-01-25</td>\n",
              "      <td>1085.000000</td>\n",
              "      <td>1094.000000</td>\n",
              "      <td>1081.819946</td>\n",
              "      <td>1090.989990</td>\n",
              "      <td>1090.989990</td>\n",
              "      <td>1119100</td>\n",
              "    </tr>\n",
              "    <tr>\n",
              "      <th>8</th>\n",
              "      <td>2019-01-28</td>\n",
              "      <td>1080.109985</td>\n",
              "      <td>1083.000000</td>\n",
              "      <td>1063.800049</td>\n",
              "      <td>1070.079956</td>\n",
              "      <td>1070.079956</td>\n",
              "      <td>1284300</td>\n",
              "    </tr>\n",
              "    <tr>\n",
              "      <th>9</th>\n",
              "      <td>2019-01-29</td>\n",
              "      <td>1072.680054</td>\n",
              "      <td>1075.150024</td>\n",
              "      <td>1055.864990</td>\n",
              "      <td>1060.619995</td>\n",
              "      <td>1060.619995</td>\n",
              "      <td>1021800</td>\n",
              "    </tr>\n",
              "    <tr>\n",
              "      <th>10</th>\n",
              "      <td>2019-01-30</td>\n",
              "      <td>1068.430054</td>\n",
              "      <td>1091.000000</td>\n",
              "      <td>1066.849976</td>\n",
              "      <td>1089.060059</td>\n",
              "      <td>1089.060059</td>\n",
              "      <td>1279800</td>\n",
              "    </tr>\n",
              "    <tr>\n",
              "      <th>11</th>\n",
              "      <td>2019-01-31</td>\n",
              "      <td>1103.000000</td>\n",
              "      <td>1117.329956</td>\n",
              "      <td>1095.410034</td>\n",
              "      <td>1116.369995</td>\n",
              "      <td>1116.369995</td>\n",
              "      <td>1538300</td>\n",
              "    </tr>\n",
              "    <tr>\n",
              "      <th>12</th>\n",
              "      <td>2019-02-01</td>\n",
              "      <td>1112.400024</td>\n",
              "      <td>1125.000000</td>\n",
              "      <td>1104.890015</td>\n",
              "      <td>1110.750000</td>\n",
              "      <td>1110.750000</td>\n",
              "      <td>1462200</td>\n",
              "    </tr>\n",
              "    <tr>\n",
              "      <th>13</th>\n",
              "      <td>2019-02-04</td>\n",
              "      <td>1112.660034</td>\n",
              "      <td>1132.800049</td>\n",
              "      <td>1109.020020</td>\n",
              "      <td>1132.800049</td>\n",
              "      <td>1132.800049</td>\n",
              "      <td>2576500</td>\n",
              "    </tr>\n",
              "    <tr>\n",
              "      <th>14</th>\n",
              "      <td>2019-02-05</td>\n",
              "      <td>1124.839966</td>\n",
              "      <td>1146.849976</td>\n",
              "      <td>1117.248047</td>\n",
              "      <td>1145.989990</td>\n",
              "      <td>1145.989990</td>\n",
              "      <td>3552200</td>\n",
              "    </tr>\n",
              "    <tr>\n",
              "      <th>15</th>\n",
              "      <td>2019-02-06</td>\n",
              "      <td>1139.569946</td>\n",
              "      <td>1147.000000</td>\n",
              "      <td>1112.770020</td>\n",
              "      <td>1115.229980</td>\n",
              "      <td>1115.229980</td>\n",
              "      <td>2105600</td>\n",
              "    </tr>\n",
              "    <tr>\n",
              "      <th>16</th>\n",
              "      <td>2019-02-07</td>\n",
              "      <td>1104.160034</td>\n",
              "      <td>1104.839966</td>\n",
              "      <td>1086.000000</td>\n",
              "      <td>1098.709961</td>\n",
              "      <td>1098.709961</td>\n",
              "      <td>2044800</td>\n",
              "    </tr>\n",
              "    <tr>\n",
              "      <th>17</th>\n",
              "      <td>2019-02-08</td>\n",
              "      <td>1087.000000</td>\n",
              "      <td>1098.910034</td>\n",
              "      <td>1086.550049</td>\n",
              "      <td>1095.060059</td>\n",
              "      <td>1095.060059</td>\n",
              "      <td>1075800</td>\n",
              "    </tr>\n",
              "    <tr>\n",
              "      <th>18</th>\n",
              "      <td>2019-02-11</td>\n",
              "      <td>1096.949951</td>\n",
              "      <td>1105.944946</td>\n",
              "      <td>1092.859985</td>\n",
              "      <td>1095.010010</td>\n",
              "      <td>1095.010010</td>\n",
              "      <td>1065200</td>\n",
              "    </tr>\n",
              "    <tr>\n",
              "      <th>19</th>\n",
              "      <td>2019-02-12</td>\n",
              "      <td>1106.800049</td>\n",
              "      <td>1125.295044</td>\n",
              "      <td>1105.849976</td>\n",
              "      <td>1121.369995</td>\n",
              "      <td>1121.369995</td>\n",
              "      <td>1609100</td>\n",
              "    </tr>\n",
              "    <tr>\n",
              "      <th>20</th>\n",
              "      <td>2019-02-13</td>\n",
              "      <td>1124.989990</td>\n",
              "      <td>1134.729980</td>\n",
              "      <td>1118.500000</td>\n",
              "      <td>1120.160034</td>\n",
              "      <td>1120.160034</td>\n",
              "      <td>1049800</td>\n",
              "    </tr>\n",
              "  </tbody>\n",
              "</table>\n",
              "</div>"
            ],
            "text/plain": [
              "          Date         Open         High  ...        Close    Adj Close   Volume\n",
              "0   2019-01-15  1050.170044  1080.050049  ...  1077.150024  1077.150024  1463600\n",
              "1   2019-01-16  1080.000000  1092.375000  ...  1080.969971  1080.969971  1331800\n",
              "2   2019-01-17  1079.469971  1091.800049  ...  1089.900024  1089.900024  1242700\n",
              "3   2019-01-18  1100.000000  1108.352051  ...  1098.260010  1098.260010  1955600\n",
              "4   2019-01-22  1088.000000  1091.510010  ...  1070.520020  1070.520020  1613500\n",
              "5   2019-01-23  1077.349976  1084.930054  ...  1075.569946  1075.569946   967000\n",
              "6   2019-01-24  1076.479980  1079.474976  ...  1073.900024  1073.900024  1361300\n",
              "7   2019-01-25  1085.000000  1094.000000  ...  1090.989990  1090.989990  1119100\n",
              "8   2019-01-28  1080.109985  1083.000000  ...  1070.079956  1070.079956  1284300\n",
              "9   2019-01-29  1072.680054  1075.150024  ...  1060.619995  1060.619995  1021800\n",
              "10  2019-01-30  1068.430054  1091.000000  ...  1089.060059  1089.060059  1279800\n",
              "11  2019-01-31  1103.000000  1117.329956  ...  1116.369995  1116.369995  1538300\n",
              "12  2019-02-01  1112.400024  1125.000000  ...  1110.750000  1110.750000  1462200\n",
              "13  2019-02-04  1112.660034  1132.800049  ...  1132.800049  1132.800049  2576500\n",
              "14  2019-02-05  1124.839966  1146.849976  ...  1145.989990  1145.989990  3552200\n",
              "15  2019-02-06  1139.569946  1147.000000  ...  1115.229980  1115.229980  2105600\n",
              "16  2019-02-07  1104.160034  1104.839966  ...  1098.709961  1098.709961  2044800\n",
              "17  2019-02-08  1087.000000  1098.910034  ...  1095.060059  1095.060059  1075800\n",
              "18  2019-02-11  1096.949951  1105.944946  ...  1095.010010  1095.010010  1065200\n",
              "19  2019-02-12  1106.800049  1125.295044  ...  1121.369995  1121.369995  1609100\n",
              "20  2019-02-13  1124.989990  1134.729980  ...  1120.160034  1120.160034  1049800\n",
              "\n",
              "[21 rows x 7 columns]"
            ]
          },
          "metadata": {
            "tags": []
          },
          "execution_count": 66
        }
      ]
    },
    {
      "cell_type": "code",
      "metadata": {
        "id": "muw1lXteB4Vp",
        "colab_type": "code",
        "outputId": "010fb97f-c96a-463e-f23c-2e5cbb746145",
        "colab": {
          "base_uri": "https://localhost:8080/",
          "height": 34
        }
      },
      "source": [
        "#the new shape of the data\n",
        "df.shape"
      ],
      "execution_count": 0,
      "outputs": [
        {
          "output_type": "execute_result",
          "data": {
            "text/plain": [
              "(21, 7)"
            ]
          },
          "metadata": {
            "tags": []
          },
          "execution_count": 67
        }
      ]
    },
    {
      "cell_type": "code",
      "metadata": {
        "id": "tb7ffo4MCLoJ",
        "colab_type": "code",
        "colab": {}
      },
      "source": [
        "#get all the rows from the date column\n",
        "df_dates = df.loc[:,'Date']\n",
        "df_open = df.loc[:,'Open']\n"
      ],
      "execution_count": 0,
      "outputs": []
    },
    {
      "cell_type": "code",
      "metadata": {
        "id": "vQk_9g7-bLvh",
        "colab_type": "code",
        "colab": {}
      },
      "source": [
        "#create independent data set x\n",
        "for date in df_dates:\n",
        "  dates.append([int(date.split('-')[2])])\n",
        "\n",
        "#crerate denpendent data set Y\n",
        "for open_price in df_open:\n",
        "  prices.append(float(open_price))"
      ],
      "execution_count": 0,
      "outputs": []
    },
    {
      "cell_type": "code",
      "metadata": {
        "id": "zTmCjiyKc6DG",
        "colab_type": "code",
        "outputId": "064d5e3b-2492-4182-bbbb-d4a2b4e5239a",
        "colab": {
          "base_uri": "https://localhost:8080/",
          "height": 34
        }
      },
      "source": [
        "#Create what days were recorded\n",
        "print(dates)"
      ],
      "execution_count": 0,
      "outputs": [
        {
          "output_type": "stream",
          "text": [
            "[[15], [16], [17], [18], [22], [23], [24], [25], [28], [29], [30], [31], [1], [4], [5], [6], [7], [8], [11], [12], [13]]\n"
          ],
          "name": "stdout"
        }
      ]
    },
    {
      "cell_type": "code",
      "metadata": {
        "id": "zMueVZD8dFgw",
        "colab_type": "code",
        "colab": {}
      },
      "source": [
        "def predict_prices(dates, prices,x):\n",
        "  #Create the 3 support vector regression model\n",
        "  svr_lin=SVR(kernel='linear', C=1e3)\n",
        "  svr_poly=SVR(kernel='poly', C=1e3, degree=2)\n",
        "  svr_rbf =SVR(kernel='rbf', C=1e3, gamma=0.1)\n",
        "\n",
        "  #Train the SVR models\n",
        "  svr_lin.fit(dates,prices)\n",
        "  svr_poly.fit(dates,prices)\n",
        "  svr_rbf.fit(dates,prices)\n",
        "\n",
        "  #create the Liner Regression model\n",
        "  lin_reg = LinearRegression()\n",
        "  #Train the liner Regression\n",
        "  lin_reg.fit(dates,prices)\n",
        "\n",
        "  #plot the models on the grams which have the bet fit\n",
        "  plt.scatter(dates, prices, color='black', label='Data')\n",
        "  plt.plot(dates,svr_rbf.predict(dates), color='red', label=\"SVR RBF\")\n",
        "  plt.plot(dates,svr_poly.predict(dates), color='blue', label=\"SVR Poly\")\n",
        "  plt.plot(dates,svr_lin.predict(dates), color='green', label=\"SVR Linear\")\n",
        "  plt.plot(dates,lin_reg.predict(dates), color='orange', label=\"linear Reg\")\n",
        "  plt.xlabel('days')\n",
        "  plt.ylabel('Price')\n",
        "  plt.title(\"Regression\")\n",
        "  plt.legend()\n",
        "  plt.show()\n",
        "\n",
        "  return svr_rbf.predict(x)[0], svr_lin.predict(x)[0], svr_poly.predict(x)[0], lin_reg.predict(x)[0]"
      ],
      "execution_count": 0,
      "outputs": []
    },
    {
      "cell_type": "code",
      "metadata": {
        "id": "4bwgNA3MnVQJ",
        "colab_type": "code",
        "outputId": "a277755e-0c3c-461b-8aa4-c4b2d5931326",
        "colab": {
          "base_uri": "https://localhost:8080/",
          "height": 312
        }
      },
      "source": [
        "#predict the price of google on day 13\n",
        "predicted_price =predict_prices(dates,prices,[[13]])\n",
        "print(predicted_price)"
      ],
      "execution_count": 0,
      "outputs": [
        {
          "output_type": "display_data",
          "data": {
            "image/png": "[encoded data removed]",
            "text/plain": [
              "<Figure size 432x288 with 1 Axes>"
            ]
          },
          "metadata": {
            "tags": []
          }
        },
        {
          "output_type": "stream",
          "text": [
            "(1104.4233834448546, 1095.6745849090182, 1104.354615610666, 1098.6812249427317)\n"
          ],
          "name": "stdout"
        }
      ]
    }
  ]
}